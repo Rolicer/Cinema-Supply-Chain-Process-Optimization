{
 "cells": [
  {
   "cell_type": "markdown",
   "id": "021055c9",
   "metadata": {},
   "source": [
    "## Importing Libraries etc"
   ]
  },
  {
   "cell_type": "code",
   "execution_count": 1,
   "id": "c621b52e",
   "metadata": {},
   "outputs": [],
   "source": [
    "#general imports\n",
    "import numpy as np\n",
    "import pandas as pd\n",
    "from pandas import Series, DataFrame\n",
    "\n",
    "#scipy for testing\n",
    "import scipy\n",
    "import scipy.stats\n",
    "from scipy import stats\n",
    "from scipy.stats import ttest_ind\n",
    "import statsmodels.stats.api as sms\n",
    "\n",
    "# sklearn for distribution transforming\n",
    "from sklearn.preprocessing import QuantileTransformer\n",
    "\n",
    "#for visualization\n",
    "import matplotlib.pyplot as plt\n",
    "import seaborn as sns\n",
    "\n",
    "# for fitting the distribution\n",
    "from fitter import Fitter, get_common_distributions, get_distributions\n",
    "\n",
    "# other libraries\n",
    "from pylab import rcParams"
   ]
  },
  {
   "cell_type": "code",
   "execution_count": 2,
   "id": "6e9d056a",
   "metadata": {},
   "outputs": [],
   "source": [
    "%matplotlib inline\n",
    "rcParams['figure.figsize'] = 5,4"
   ]
  },
  {
   "cell_type": "markdown",
   "id": "21a21d7b",
   "metadata": {},
   "source": [
    "## Reading and preparing the dataset"
   ]
  },
  {
   "cell_type": "code",
   "execution_count": 3,
   "id": "a3f510e6",
   "metadata": {},
   "outputs": [],
   "source": [
    "path_to_data = 'C:/Users/dansi/OneDrive/Документы/Files/Data science/Bachelorseminar Cinedom/Data/Input Distributions.csv'\n",
    "df = pd.read_csv(path_to_data)"
   ]
  },
  {
   "cell_type": "code",
   "execution_count": 4,
   "id": "780cf84d",
   "metadata": {},
   "outputs": [
    {
     "data": {
      "text/html": [
       "<div>\n",
       "<style scoped>\n",
       "    .dataframe tbody tr th:only-of-type {\n",
       "        vertical-align: middle;\n",
       "    }\n",
       "\n",
       "    .dataframe tbody tr th {\n",
       "        vertical-align: top;\n",
       "    }\n",
       "\n",
       "    .dataframe thead th {\n",
       "        text-align: right;\n",
       "    }\n",
       "</style>\n",
       "<table border=\"1\" class=\"dataframe\">\n",
       "  <thead>\n",
       "    <tr style=\"text-align: right;\">\n",
       "      <th></th>\n",
       "      <th>interarrival People</th>\n",
       "      <th>interarrival time</th>\n",
       "      <th>ticket machine</th>\n",
       "      <th>ticket cashier</th>\n",
       "      <th>Snack #People</th>\n",
       "      <th>snack queue</th>\n",
       "      <th>snack ordering</th>\n",
       "      <th>snack preparing</th>\n",
       "      <th>snack paying</th>\n",
       "      <th>Total time Snackbar</th>\n",
       "    </tr>\n",
       "  </thead>\n",
       "  <tbody>\n",
       "    <tr>\n",
       "      <th>0</th>\n",
       "      <td>6.0</td>\n",
       "      <td>0.0</td>\n",
       "      <td>72.0</td>\n",
       "      <td>49.0</td>\n",
       "      <td>2</td>\n",
       "      <td>376.77</td>\n",
       "      <td>43.81</td>\n",
       "      <td>23.39</td>\n",
       "      <td>10.70</td>\n",
       "      <td>454.67</td>\n",
       "    </tr>\n",
       "    <tr>\n",
       "      <th>1</th>\n",
       "      <td>2.0</td>\n",
       "      <td>17.0</td>\n",
       "      <td>42.0</td>\n",
       "      <td>112.0</td>\n",
       "      <td>2</td>\n",
       "      <td>75.18</td>\n",
       "      <td>23.80</td>\n",
       "      <td>22.16</td>\n",
       "      <td>39.97</td>\n",
       "      <td>161.11</td>\n",
       "    </tr>\n",
       "    <tr>\n",
       "      <th>2</th>\n",
       "      <td>2.0</td>\n",
       "      <td>4.0</td>\n",
       "      <td>57.0</td>\n",
       "      <td>87.0</td>\n",
       "      <td>2</td>\n",
       "      <td>25.85</td>\n",
       "      <td>27.81</td>\n",
       "      <td>5.80</td>\n",
       "      <td>1.42</td>\n",
       "      <td>60.88</td>\n",
       "    </tr>\n",
       "    <tr>\n",
       "      <th>3</th>\n",
       "      <td>2.0</td>\n",
       "      <td>6.0</td>\n",
       "      <td>64.0</td>\n",
       "      <td>54.0</td>\n",
       "      <td>2</td>\n",
       "      <td>16.29</td>\n",
       "      <td>14.11</td>\n",
       "      <td>62.04</td>\n",
       "      <td>28.84</td>\n",
       "      <td>121.28</td>\n",
       "    </tr>\n",
       "    <tr>\n",
       "      <th>4</th>\n",
       "      <td>2.0</td>\n",
       "      <td>13.0</td>\n",
       "      <td>59.0</td>\n",
       "      <td>46.0</td>\n",
       "      <td>2</td>\n",
       "      <td>76.55</td>\n",
       "      <td>21.11</td>\n",
       "      <td>25.82</td>\n",
       "      <td>38.33</td>\n",
       "      <td>161.81</td>\n",
       "    </tr>\n",
       "  </tbody>\n",
       "</table>\n",
       "</div>"
      ],
      "text/plain": [
       "   interarrival People  interarrival time  ticket machine  ticket cashier  \\\n",
       "0                  6.0                0.0            72.0            49.0   \n",
       "1                  2.0               17.0            42.0           112.0   \n",
       "2                  2.0                4.0            57.0            87.0   \n",
       "3                  2.0                6.0            64.0            54.0   \n",
       "4                  2.0               13.0            59.0            46.0   \n",
       "\n",
       "   Snack #People  snack queue  snack ordering  snack preparing  snack paying  \\\n",
       "0              2       376.77           43.81            23.39         10.70   \n",
       "1              2        75.18           23.80            22.16         39.97   \n",
       "2              2        25.85           27.81             5.80          1.42   \n",
       "3              2        16.29           14.11            62.04         28.84   \n",
       "4              2        76.55           21.11            25.82         38.33   \n",
       "\n",
       "   Total time Snackbar  \n",
       "0               454.67  \n",
       "1               161.11  \n",
       "2                60.88  \n",
       "3               121.28  \n",
       "4               161.81  "
      ]
     },
     "execution_count": 4,
     "metadata": {},
     "output_type": "execute_result"
    }
   ],
   "source": [
    "df.head()"
   ]
  },
  {
   "cell_type": "code",
   "execution_count": 5,
   "id": "1ba7fba3",
   "metadata": {},
   "outputs": [
    {
     "data": {
      "text/html": [
       "<div>\n",
       "<style scoped>\n",
       "    .dataframe tbody tr th:only-of-type {\n",
       "        vertical-align: middle;\n",
       "    }\n",
       "\n",
       "    .dataframe tbody tr th {\n",
       "        vertical-align: top;\n",
       "    }\n",
       "\n",
       "    .dataframe thead th {\n",
       "        text-align: right;\n",
       "    }\n",
       "</style>\n",
       "<table border=\"1\" class=\"dataframe\">\n",
       "  <thead>\n",
       "    <tr style=\"text-align: right;\">\n",
       "      <th></th>\n",
       "      <th>interarrival People</th>\n",
       "      <th>interarrival time</th>\n",
       "      <th>ticket machine</th>\n",
       "      <th>ticket cashier</th>\n",
       "      <th>Snack #People</th>\n",
       "      <th>snack queue</th>\n",
       "      <th>snack ordering</th>\n",
       "      <th>snack preparing</th>\n",
       "      <th>snack paying</th>\n",
       "      <th>Total time Snackbar</th>\n",
       "    </tr>\n",
       "  </thead>\n",
       "  <tbody>\n",
       "    <tr>\n",
       "      <th>count</th>\n",
       "      <td>66.000000</td>\n",
       "      <td>66.000000</td>\n",
       "      <td>29.000000</td>\n",
       "      <td>27.000000</td>\n",
       "      <td>69.000000</td>\n",
       "      <td>69.000000</td>\n",
       "      <td>69.000000</td>\n",
       "      <td>69.000000</td>\n",
       "      <td>69.000000</td>\n",
       "      <td>69.000000</td>\n",
       "    </tr>\n",
       "    <tr>\n",
       "      <th>mean</th>\n",
       "      <td>2.833333</td>\n",
       "      <td>9.212121</td>\n",
       "      <td>67.965517</td>\n",
       "      <td>78.481481</td>\n",
       "      <td>2.115942</td>\n",
       "      <td>235.238261</td>\n",
       "      <td>29.614348</td>\n",
       "      <td>41.674058</td>\n",
       "      <td>26.834203</td>\n",
       "      <td>333.360870</td>\n",
       "    </tr>\n",
       "    <tr>\n",
       "      <th>std</th>\n",
       "      <td>1.514883</td>\n",
       "      <td>6.710532</td>\n",
       "      <td>13.184089</td>\n",
       "      <td>28.823562</td>\n",
       "      <td>0.653863</td>\n",
       "      <td>195.198585</td>\n",
       "      <td>20.423795</td>\n",
       "      <td>25.269330</td>\n",
       "      <td>29.855605</td>\n",
       "      <td>202.755166</td>\n",
       "    </tr>\n",
       "    <tr>\n",
       "      <th>min</th>\n",
       "      <td>1.000000</td>\n",
       "      <td>0.000000</td>\n",
       "      <td>42.000000</td>\n",
       "      <td>34.000000</td>\n",
       "      <td>1.000000</td>\n",
       "      <td>10.650000</td>\n",
       "      <td>5.070000</td>\n",
       "      <td>1.480000</td>\n",
       "      <td>1.180000</td>\n",
       "      <td>60.880000</td>\n",
       "    </tr>\n",
       "    <tr>\n",
       "      <th>25%</th>\n",
       "      <td>2.000000</td>\n",
       "      <td>4.000000</td>\n",
       "      <td>59.000000</td>\n",
       "      <td>58.500000</td>\n",
       "      <td>2.000000</td>\n",
       "      <td>68.720000</td>\n",
       "      <td>13.900000</td>\n",
       "      <td>22.160000</td>\n",
       "      <td>11.540000</td>\n",
       "      <td>161.920000</td>\n",
       "    </tr>\n",
       "    <tr>\n",
       "      <th>50%</th>\n",
       "      <td>2.000000</td>\n",
       "      <td>7.500000</td>\n",
       "      <td>67.000000</td>\n",
       "      <td>77.000000</td>\n",
       "      <td>2.000000</td>\n",
       "      <td>217.890000</td>\n",
       "      <td>24.080000</td>\n",
       "      <td>33.050000</td>\n",
       "      <td>18.880000</td>\n",
       "      <td>298.040000</td>\n",
       "    </tr>\n",
       "    <tr>\n",
       "      <th>75%</th>\n",
       "      <td>3.000000</td>\n",
       "      <td>13.000000</td>\n",
       "      <td>74.000000</td>\n",
       "      <td>97.500000</td>\n",
       "      <td>2.000000</td>\n",
       "      <td>358.090000</td>\n",
       "      <td>40.500000</td>\n",
       "      <td>62.040000</td>\n",
       "      <td>29.180000</td>\n",
       "      <td>468.490000</td>\n",
       "    </tr>\n",
       "    <tr>\n",
       "      <th>max</th>\n",
       "      <td>11.000000</td>\n",
       "      <td>28.000000</td>\n",
       "      <td>103.000000</td>\n",
       "      <td>138.000000</td>\n",
       "      <td>4.000000</td>\n",
       "      <td>869.070000</td>\n",
       "      <td>109.800000</td>\n",
       "      <td>96.610000</td>\n",
       "      <td>192.790000</td>\n",
       "      <td>949.490000</td>\n",
       "    </tr>\n",
       "  </tbody>\n",
       "</table>\n",
       "</div>"
      ],
      "text/plain": [
       "       interarrival People  interarrival time  ticket machine  ticket cashier  \\\n",
       "count            66.000000          66.000000       29.000000       27.000000   \n",
       "mean              2.833333           9.212121       67.965517       78.481481   \n",
       "std               1.514883           6.710532       13.184089       28.823562   \n",
       "min               1.000000           0.000000       42.000000       34.000000   \n",
       "25%               2.000000           4.000000       59.000000       58.500000   \n",
       "50%               2.000000           7.500000       67.000000       77.000000   \n",
       "75%               3.000000          13.000000       74.000000       97.500000   \n",
       "max              11.000000          28.000000      103.000000      138.000000   \n",
       "\n",
       "       Snack #People  snack queue  snack ordering  snack preparing  \\\n",
       "count      69.000000    69.000000       69.000000        69.000000   \n",
       "mean        2.115942   235.238261       29.614348        41.674058   \n",
       "std         0.653863   195.198585       20.423795        25.269330   \n",
       "min         1.000000    10.650000        5.070000         1.480000   \n",
       "25%         2.000000    68.720000       13.900000        22.160000   \n",
       "50%         2.000000   217.890000       24.080000        33.050000   \n",
       "75%         2.000000   358.090000       40.500000        62.040000   \n",
       "max         4.000000   869.070000      109.800000        96.610000   \n",
       "\n",
       "       snack paying  Total time Snackbar  \n",
       "count     69.000000            69.000000  \n",
       "mean      26.834203           333.360870  \n",
       "std       29.855605           202.755166  \n",
       "min        1.180000            60.880000  \n",
       "25%       11.540000           161.920000  \n",
       "50%       18.880000           298.040000  \n",
       "75%       29.180000           468.490000  \n",
       "max      192.790000           949.490000  "
      ]
     },
     "execution_count": 5,
     "metadata": {},
     "output_type": "execute_result"
    }
   ],
   "source": [
    "df.describe()"
   ]
  },
  {
   "cell_type": "code",
   "execution_count": 44,
   "id": "8041c124",
   "metadata": {},
   "outputs": [],
   "source": [
    "# choose every column and only the columns with values\n",
    "interarrival_people = df.loc[:65,'interarrival People']\n",
    "interarrival_time = df.loc[:65,'interarrival time']\n",
    "ticket_machine = df.loc[:28,'ticket machine']\n",
    "ticket_cashier = df.loc[:26,'ticket cashier']\n",
    "snack_people = df.loc[:68,'Snack #People']\n",
    "snack_queue = df.loc[:68,'snack queue']\n",
    "snack_ordering = df.loc[:68,'snack ordering']\n",
    "snack_preparing = df.loc[:68,'snack preparing']\n",
    "snack_paying = df.loc[:68,'snack paying']\n",
    "total_time_snackbar = df.loc[:68,'Total time Snackbar']\n",
    "\n",
    "# for the new model\n",
    "OrderSnack = df.loc[:68,'snack ordering'] + df.loc[:68,'snack paying']\n",
    "OrderTicketAndSnack = df.loc[:68,'snack ordering'] + df.loc[:68,'snack paying'] + df.loc[:28,'ticket machine']\n",
    "OrderTicketAndSnack = OrderTicketAndSnack.dropna()\n",
    "OrderTicket = df.loc[:28,'ticket machine']"
   ]
  },
  {
   "cell_type": "markdown",
   "id": "565c8902",
   "metadata": {},
   "source": [
    "## Is there a correlation between time and group sizes?"
   ]
  },
  {
   "cell_type": "code",
   "execution_count": 45,
   "id": "d0e51dd1",
   "metadata": {},
   "outputs": [
    {
     "data": {
      "text/plain": [
       "interarrival People   -0.01\n",
       "interarrival time     -0.04\n",
       "ticket machine         0.25\n",
       "ticket cashier         0.00\n",
       "Snack #People          1.00\n",
       "snack queue            0.14\n",
       "snack ordering         0.11\n",
       "snack preparing        0.22\n",
       "snack paying           0.33\n",
       "Total time Snackbar    0.22\n",
       "Name: Snack #People, dtype: float64"
      ]
     },
     "execution_count": 45,
     "metadata": {},
     "output_type": "execute_result"
    }
   ],
   "source": [
    "# correlation with every variable\n",
    "correlation = df.corr(method='pearson')\n",
    "corr = round(correlation['Snack #People'],2)\n",
    "corr"
   ]
  },
  {
   "cell_type": "code",
   "execution_count": 46,
   "id": "8e53bf5e",
   "metadata": {},
   "outputs": [
    {
     "data": {
      "image/png": "[encoded data removed]",
      "text/plain": [
       "<Figure size 720x180 with 4 Axes>"
      ]
     },
     "metadata": {
      "needs_background": "light"
     },
     "output_type": "display_data"
    },
    {
     "data": {
      "image/png": "[encoded data removed]",
      "text/plain": [
       "<Figure size 720x180 with 4 Axes>"
      ]
     },
     "metadata": {
      "needs_background": "light"
     },
     "output_type": "display_data"
    }
   ],
   "source": [
    "pp1 = sns.pairplot(data=df,\n",
    "                  y_vars=['Snack #People'],\n",
    "                  x_vars=['interarrival time', 'ticket machine', 'ticket cashier', 'snack queue'])\n",
    "\n",
    "pp2 = sns.pairplot(data=df,\n",
    "                  y_vars=['Snack #People'],\n",
    "                  x_vars=['snack ordering', 'snack preparing', 'snack paying', 'Total time Snackbar'])"
   ]
  },
  {
   "cell_type": "markdown",
   "id": "c3e8340d",
   "metadata": {},
   "source": [
    "## Distribution analysis"
   ]
  },
  {
   "cell_type": "markdown",
   "id": "d99d7f5b",
   "metadata": {},
   "source": [
    "The parameters which we need in AnyLogic (source: https://anylogic.help/)"
   ]
  },
  {
   "cell_type": "markdown",
   "id": "970ed21c",
   "metadata": {},
   "source": [
    "lognormal(double mu, double sigma, double min)\n",
    "- mu -The mean of the included Normal.\n",
    "- sigma - The standard deviation of the included Normal.\n",
    "- min - The minimum x value."
   ]
  },
  {
   "cell_type": "markdown",
   "id": "a49cb0f8",
   "metadata": {},
   "source": [
    "gamma(double alpha, double beta, double min)\n",
    "- alpha - The shape parameter > 0.\n",
    "- beta - The scale parameter > 0.\n",
    "- min - The minimum x value."
   ]
  },
  {
   "cell_type": "markdown",
   "id": "d9344678",
   "metadata": {},
   "source": [
    "exponential(double lambda, double min)\n",
    "- lambda - The shape parameter.\n",
    "- min - The minimum x value."
   ]
  },
  {
   "cell_type": "markdown",
   "id": "473c7ecd",
   "metadata": {},
   "source": [
    "chi2(double nu, double min)\n",
    "- nu - The shape parameter.\n",
    "- min - The minimum x value."
   ]
  },
  {
   "cell_type": "markdown",
   "id": "8e12eda1",
   "metadata": {},
   "source": [
    "## INTERARRIVAL TIME"
   ]
  },
  {
   "cell_type": "code",
   "execution_count": 47,
   "id": "4f11ec85",
   "metadata": {
    "scrolled": true
   },
   "outputs": [
    {
     "data": {
      "text/html": [
       "<div>\n",
       "<style scoped>\n",
       "    .dataframe tbody tr th:only-of-type {\n",
       "        vertical-align: middle;\n",
       "    }\n",
       "\n",
       "    .dataframe tbody tr th {\n",
       "        vertical-align: top;\n",
       "    }\n",
       "\n",
       "    .dataframe thead th {\n",
       "        text-align: right;\n",
       "    }\n",
       "</style>\n",
       "<table border=\"1\" class=\"dataframe\">\n",
       "  <thead>\n",
       "    <tr style=\"text-align: right;\">\n",
       "      <th></th>\n",
       "      <th>sumsquare_error</th>\n",
       "      <th>aic</th>\n",
       "      <th>bic</th>\n",
       "      <th>kl_div</th>\n",
       "    </tr>\n",
       "  </thead>\n",
       "  <tbody>\n",
       "    <tr>\n",
       "      <th>lognorm</th>\n",
       "      <td>0.723640</td>\n",
       "      <td>767.563414</td>\n",
       "      <td>-285.296734</td>\n",
       "      <td>inf</td>\n",
       "    </tr>\n",
       "    <tr>\n",
       "      <th>chi2</th>\n",
       "      <td>0.729878</td>\n",
       "      <td>755.651969</td>\n",
       "      <td>-284.730177</td>\n",
       "      <td>inf</td>\n",
       "    </tr>\n",
       "    <tr>\n",
       "      <th>gamma</th>\n",
       "      <td>0.729878</td>\n",
       "      <td>755.650875</td>\n",
       "      <td>-284.730158</td>\n",
       "      <td>inf</td>\n",
       "    </tr>\n",
       "    <tr>\n",
       "      <th>norm</th>\n",
       "      <td>0.767319</td>\n",
       "      <td>765.987994</td>\n",
       "      <td>-285.618202</td>\n",
       "      <td>inf</td>\n",
       "    </tr>\n",
       "    <tr>\n",
       "      <th>expon</th>\n",
       "      <td>0.776713</td>\n",
       "      <td>752.051396</td>\n",
       "      <td>-284.815108</td>\n",
       "      <td>inf</td>\n",
       "    </tr>\n",
       "  </tbody>\n",
       "</table>\n",
       "</div>"
      ],
      "text/plain": [
       "         sumsquare_error         aic         bic  kl_div\n",
       "lognorm         0.723640  767.563414 -285.296734     inf\n",
       "chi2            0.729878  755.651969 -284.730177     inf\n",
       "gamma           0.729878  755.650875 -284.730158     inf\n",
       "norm            0.767319  765.987994 -285.618202     inf\n",
       "expon           0.776713  752.051396 -284.815108     inf"
      ]
     },
     "execution_count": 47,
     "metadata": {},
     "output_type": "execute_result"
    }
   ],
   "source": [
    "f = Fitter(interarrival_time, \n",
    "           distributions=['chi2',\n",
    "                         'expon',\n",
    "                         'gamma',\n",
    "                         'lognorm',\n",
    "                         'norm',\n",
    "                         'uniform'])\n",
    "f.fit()\n",
    "f.summary(plot=False)"
   ]
  },
  {
   "cell_type": "code",
   "execution_count": 48,
   "id": "34ff0c62",
   "metadata": {
    "scrolled": false
   },
   "outputs": [
    {
     "name": "stderr",
     "output_type": "stream",
     "text": [
      "C:\\ProgramData\\Anaconda3\\lib\\site-packages\\seaborn\\distributions.py:2619: FutureWarning: `distplot` is a deprecated function and will be removed in a future version. Please adapt your code to use either `displot` (a figure-level function with similar flexibility) or `histplot` (an axes-level function for histograms).\n",
      "  warnings.warn(msg, FutureWarning)\n"
     ]
    },
    {
     "data": {
      "image/png": "[encoded data removed]",
      "text/plain": [
       "<Figure size 360x288 with 1 Axes>"
      ]
     },
     "metadata": {
      "needs_background": "light"
     },
     "output_type": "display_data"
    }
   ],
   "source": [
    "sns.distplot(interarrival_time, bins=9, kde=False, fit=stats.lognorm);\n",
    "plt.xlim(interarrival_time.min(),40)\n",
    "plt.ylim(0,0.11)\n",
    "plt.xlabel('Interarrival time in seconds')\n",
    "plt.show()"
   ]
  },
  {
   "cell_type": "code",
   "execution_count": 49,
   "id": "460c0654",
   "metadata": {},
   "outputs": [
    {
     "name": "stdout",
     "output_type": "stream",
     "text": [
      "Parameters used for Anylogic:\n"
     ]
    },
    {
     "data": {
      "text/plain": [
       "(2.2120881844700757, 0.5943060436558889, 0.0)"
      ]
     },
     "execution_count": 49,
     "metadata": {},
     "output_type": "execute_result"
    }
   ],
   "source": [
    "shape, loc, scale = stats.lognorm.fit(interarrival_time)\n",
    "\n",
    "print('Parameters used for Anylogic:')\n",
    "np.log(scale), shape, interarrival_time.min()  # mu, sigma, xmin"
   ]
  },
  {
   "cell_type": "markdown",
   "id": "b15e852e",
   "metadata": {},
   "source": [
    "## TICKET MACHINE"
   ]
  },
  {
   "cell_type": "code",
   "execution_count": 50,
   "id": "915850fb",
   "metadata": {},
   "outputs": [
    {
     "data": {
      "text/html": [
       "<div>\n",
       "<style scoped>\n",
       "    .dataframe tbody tr th:only-of-type {\n",
       "        vertical-align: middle;\n",
       "    }\n",
       "\n",
       "    .dataframe tbody tr th {\n",
       "        vertical-align: top;\n",
       "    }\n",
       "\n",
       "    .dataframe thead th {\n",
       "        text-align: right;\n",
       "    }\n",
       "</style>\n",
       "<table border=\"1\" class=\"dataframe\">\n",
       "  <thead>\n",
       "    <tr style=\"text-align: right;\">\n",
       "      <th></th>\n",
       "      <th>sumsquare_error</th>\n",
       "      <th>aic</th>\n",
       "      <th>bic</th>\n",
       "      <th>kl_div</th>\n",
       "    </tr>\n",
       "  </thead>\n",
       "  <tbody>\n",
       "    <tr>\n",
       "      <th>lognorm</th>\n",
       "      <td>0.117150</td>\n",
       "      <td>896.178997</td>\n",
       "      <td>-149.734325</td>\n",
       "      <td>inf</td>\n",
       "    </tr>\n",
       "    <tr>\n",
       "      <th>gamma</th>\n",
       "      <td>0.117264</td>\n",
       "      <td>894.625832</td>\n",
       "      <td>-149.706169</td>\n",
       "      <td>inf</td>\n",
       "    </tr>\n",
       "    <tr>\n",
       "      <th>norm</th>\n",
       "      <td>0.118263</td>\n",
       "      <td>897.078247</td>\n",
       "      <td>-152.827587</td>\n",
       "      <td>inf</td>\n",
       "    </tr>\n",
       "    <tr>\n",
       "      <th>uniform</th>\n",
       "      <td>0.129707</td>\n",
       "      <td>826.174773</td>\n",
       "      <td>-150.148829</td>\n",
       "      <td>inf</td>\n",
       "    </tr>\n",
       "    <tr>\n",
       "      <th>expon</th>\n",
       "      <td>0.136066</td>\n",
       "      <td>890.280838</td>\n",
       "      <td>-148.760848</td>\n",
       "      <td>inf</td>\n",
       "    </tr>\n",
       "  </tbody>\n",
       "</table>\n",
       "</div>"
      ],
      "text/plain": [
       "         sumsquare_error         aic         bic  kl_div\n",
       "lognorm         0.117150  896.178997 -149.734325     inf\n",
       "gamma           0.117264  894.625832 -149.706169     inf\n",
       "norm            0.118263  897.078247 -152.827587     inf\n",
       "uniform         0.129707  826.174773 -150.148829     inf\n",
       "expon           0.136066  890.280838 -148.760848     inf"
      ]
     },
     "execution_count": 50,
     "metadata": {},
     "output_type": "execute_result"
    }
   ],
   "source": [
    "f = Fitter(ticket_machine, \n",
    "           distributions=['chi2',\n",
    "                         'expon',\n",
    "                         'gamma',\n",
    "                         'lognorm',\n",
    "                         'norm',\n",
    "                         'uniform'])\n",
    "f.fit()\n",
    "f.summary(plot=False)"
   ]
  },
  {
   "cell_type": "code",
   "execution_count": 51,
   "id": "68c94fa2",
   "metadata": {},
   "outputs": [
    {
     "name": "stderr",
     "output_type": "stream",
     "text": [
      "C:\\ProgramData\\Anaconda3\\lib\\site-packages\\seaborn\\distributions.py:2619: FutureWarning: `distplot` is a deprecated function and will be removed in a future version. Please adapt your code to use either `displot` (a figure-level function with similar flexibility) or `histplot` (an axes-level function for histograms).\n",
      "  warnings.warn(msg, FutureWarning)\n"
     ]
    },
    {
     "data": {
      "image/png": "[encoded data removed]",
      "text/plain": [
       "<Figure size 360x288 with 1 Axes>"
      ]
     },
     "metadata": {
      "needs_background": "light"
     },
     "output_type": "display_data"
    }
   ],
   "source": [
    "sns.distplot(ticket_machine, bins=9, kde=False, fit=stats.lognorm);\n",
    "plt.xlim(ticket_machine.min(),110)\n",
    "plt.ylim(0,0.06)\n",
    "plt.xlabel('Ticket Machine time in seconds')\n",
    "plt.show()"
   ]
  },
  {
   "cell_type": "code",
   "execution_count": 52,
   "id": "f2a704e1",
   "metadata": {},
   "outputs": [
    {
     "name": "stdout",
     "output_type": "stream",
     "text": [
      "Parameters used for Anylogic:\n"
     ]
    },
    {
     "data": {
      "text/plain": [
       "(4.159038310216643, 0.19555768039755267, 42.0)"
      ]
     },
     "execution_count": 52,
     "metadata": {},
     "output_type": "execute_result"
    }
   ],
   "source": [
    "shape, loc, scale = stats.lognorm.fit(ticket_machine)\n",
    "\n",
    "print('Parameters used for Anylogic:')\n",
    "np.log(scale), shape, ticket_machine.min()  # mu, sigma, xmin"
   ]
  },
  {
   "cell_type": "markdown",
   "id": "791a1db5",
   "metadata": {},
   "source": [
    "## TICKET CASHIER"
   ]
  },
  {
   "cell_type": "code",
   "execution_count": 53,
   "id": "32a8914e",
   "metadata": {},
   "outputs": [
    {
     "data": {
      "text/html": [
       "<div>\n",
       "<style scoped>\n",
       "    .dataframe tbody tr th:only-of-type {\n",
       "        vertical-align: middle;\n",
       "    }\n",
       "\n",
       "    .dataframe tbody tr th {\n",
       "        vertical-align: top;\n",
       "    }\n",
       "\n",
       "    .dataframe thead th {\n",
       "        text-align: right;\n",
       "    }\n",
       "</style>\n",
       "<table border=\"1\" class=\"dataframe\">\n",
       "  <thead>\n",
       "    <tr style=\"text-align: right;\">\n",
       "      <th></th>\n",
       "      <th>sumsquare_error</th>\n",
       "      <th>aic</th>\n",
       "      <th>bic</th>\n",
       "      <th>kl_div</th>\n",
       "    </tr>\n",
       "  </thead>\n",
       "  <tbody>\n",
       "    <tr>\n",
       "      <th>lognorm</th>\n",
       "      <td>0.027385</td>\n",
       "      <td>979.391559</td>\n",
       "      <td>-176.239789</td>\n",
       "      <td>inf</td>\n",
       "    </tr>\n",
       "    <tr>\n",
       "      <th>chi2</th>\n",
       "      <td>0.027391</td>\n",
       "      <td>977.977491</td>\n",
       "      <td>-176.233584</td>\n",
       "      <td>inf</td>\n",
       "    </tr>\n",
       "    <tr>\n",
       "      <th>gamma</th>\n",
       "      <td>0.027391</td>\n",
       "      <td>977.977498</td>\n",
       "      <td>-176.233583</td>\n",
       "      <td>inf</td>\n",
       "    </tr>\n",
       "    <tr>\n",
       "      <th>uniform</th>\n",
       "      <td>0.027534</td>\n",
       "      <td>932.878180</td>\n",
       "      <td>-179.389160</td>\n",
       "      <td>inf</td>\n",
       "    </tr>\n",
       "    <tr>\n",
       "      <th>norm</th>\n",
       "      <td>0.027545</td>\n",
       "      <td>975.969618</td>\n",
       "      <td>-179.378121</td>\n",
       "      <td>inf</td>\n",
       "    </tr>\n",
       "  </tbody>\n",
       "</table>\n",
       "</div>"
      ],
      "text/plain": [
       "         sumsquare_error         aic         bic  kl_div\n",
       "lognorm         0.027385  979.391559 -176.239789     inf\n",
       "chi2            0.027391  977.977491 -176.233584     inf\n",
       "gamma           0.027391  977.977498 -176.233583     inf\n",
       "uniform         0.027534  932.878180 -179.389160     inf\n",
       "norm            0.027545  975.969618 -179.378121     inf"
      ]
     },
     "execution_count": 53,
     "metadata": {},
     "output_type": "execute_result"
    }
   ],
   "source": [
    "f = Fitter(ticket_cashier, \n",
    "           distributions=['chi2',\n",
    "                         'expon',\n",
    "                         'gamma',\n",
    "                         'lognorm',\n",
    "                         'norm',\n",
    "                         'uniform'])\n",
    "f.fit()\n",
    "f.summary(plot=False)"
   ]
  },
  {
   "cell_type": "code",
   "execution_count": 54,
   "id": "0ec80abd",
   "metadata": {},
   "outputs": [
    {
     "name": "stderr",
     "output_type": "stream",
     "text": [
      "C:\\ProgramData\\Anaconda3\\lib\\site-packages\\seaborn\\distributions.py:2619: FutureWarning: `distplot` is a deprecated function and will be removed in a future version. Please adapt your code to use either `displot` (a figure-level function with similar flexibility) or `histplot` (an axes-level function for histograms).\n",
      "  warnings.warn(msg, FutureWarning)\n"
     ]
    },
    {
     "data": {
      "image/png": "[encoded data removed]",
      "text/plain": [
       "<Figure size 360x288 with 1 Axes>"
      ]
     },
     "metadata": {
      "needs_background": "light"
     },
     "output_type": "display_data"
    }
   ],
   "source": [
    "sns.distplot(ticket_cashier, bins=9, kde=False, fit=stats.lognorm);\n",
    "plt.xlim(ticket_cashier.min(), 150)\n",
    "plt.ylim(0,0.03)\n",
    "plt.xlabel('Ticket Cashier time in seconds')\n",
    "plt.show()"
   ]
  },
  {
   "cell_type": "code",
   "execution_count": 55,
   "id": "1f6b2f94",
   "metadata": {},
   "outputs": [
    {
     "name": "stdout",
     "output_type": "stream",
     "text": [
      "Parameters used for Anylogic:\n"
     ]
    },
    {
     "data": {
      "text/plain": [
       "(4.694441638519996, 0.2525658186837886, 34.0)"
      ]
     },
     "execution_count": 55,
     "metadata": {},
     "output_type": "execute_result"
    }
   ],
   "source": [
    "shape, loc, scale = stats.lognorm.fit(ticket_cashier)\n",
    "\n",
    "print('Parameters used for Anylogic:')\n",
    "np.log(scale), shape, ticket_cashier.min()  # mu, sigma, xmin"
   ]
  },
  {
   "cell_type": "markdown",
   "id": "7c2efbc9",
   "metadata": {},
   "source": [
    "### SNACK QUEUE"
   ]
  },
  {
   "cell_type": "code",
   "execution_count": 56,
   "id": "fd24f4ba",
   "metadata": {},
   "outputs": [
    {
     "data": {
      "text/html": [
       "<div>\n",
       "<style scoped>\n",
       "    .dataframe tbody tr th:only-of-type {\n",
       "        vertical-align: middle;\n",
       "    }\n",
       "\n",
       "    .dataframe tbody tr th {\n",
       "        vertical-align: top;\n",
       "    }\n",
       "\n",
       "    .dataframe thead th {\n",
       "        text-align: right;\n",
       "    }\n",
       "</style>\n",
       "<table border=\"1\" class=\"dataframe\">\n",
       "  <thead>\n",
       "    <tr style=\"text-align: right;\">\n",
       "      <th></th>\n",
       "      <th>sumsquare_error</th>\n",
       "      <th>aic</th>\n",
       "      <th>bic</th>\n",
       "      <th>kl_div</th>\n",
       "    </tr>\n",
       "  </thead>\n",
       "  <tbody>\n",
       "    <tr>\n",
       "      <th>expon</th>\n",
       "      <td>0.000203</td>\n",
       "      <td>1469.073198</td>\n",
       "      <td>-870.242696</td>\n",
       "      <td>inf</td>\n",
       "    </tr>\n",
       "    <tr>\n",
       "      <th>gamma</th>\n",
       "      <td>0.000222</td>\n",
       "      <td>1483.025393</td>\n",
       "      <td>-859.933948</td>\n",
       "      <td>inf</td>\n",
       "    </tr>\n",
       "    <tr>\n",
       "      <th>norm</th>\n",
       "      <td>0.000280</td>\n",
       "      <td>1516.151888</td>\n",
       "      <td>-848.195199</td>\n",
       "      <td>inf</td>\n",
       "    </tr>\n",
       "    <tr>\n",
       "      <th>uniform</th>\n",
       "      <td>0.000318</td>\n",
       "      <td>1355.018698</td>\n",
       "      <td>-839.481658</td>\n",
       "      <td>inf</td>\n",
       "    </tr>\n",
       "    <tr>\n",
       "      <th>lognorm</th>\n",
       "      <td>0.000488</td>\n",
       "      <td>1751.953916</td>\n",
       "      <td>-805.644219</td>\n",
       "      <td>inf</td>\n",
       "    </tr>\n",
       "  </tbody>\n",
       "</table>\n",
       "</div>"
      ],
      "text/plain": [
       "         sumsquare_error          aic         bic  kl_div\n",
       "expon           0.000203  1469.073198 -870.242696     inf\n",
       "gamma           0.000222  1483.025393 -859.933948     inf\n",
       "norm            0.000280  1516.151888 -848.195199     inf\n",
       "uniform         0.000318  1355.018698 -839.481658     inf\n",
       "lognorm         0.000488  1751.953916 -805.644219     inf"
      ]
     },
     "execution_count": 56,
     "metadata": {},
     "output_type": "execute_result"
    }
   ],
   "source": [
    "f = Fitter(snack_queue, \n",
    "           distributions=['chi2',\n",
    "                         'expon',\n",
    "                         'gamma',\n",
    "                         'lognorm',\n",
    "                         'norm',\n",
    "                         'uniform'])\n",
    "f.fit()\n",
    "f.summary(plot=False)"
   ]
  },
  {
   "cell_type": "code",
   "execution_count": 57,
   "id": "528cfe8b",
   "metadata": {},
   "outputs": [
    {
     "name": "stderr",
     "output_type": "stream",
     "text": [
      "C:\\ProgramData\\Anaconda3\\lib\\site-packages\\seaborn\\distributions.py:2619: FutureWarning: `distplot` is a deprecated function and will be removed in a future version. Please adapt your code to use either `displot` (a figure-level function with similar flexibility) or `histplot` (an axes-level function for histograms).\n",
      "  warnings.warn(msg, FutureWarning)\n"
     ]
    },
    {
     "data": {
      "image/png": "[encoded data removed]",
      "text/plain": [
       "<Figure size 360x288 with 1 Axes>"
      ]
     },
     "metadata": {
      "needs_background": "light"
     },
     "output_type": "display_data"
    }
   ],
   "source": [
    "sns.distplot(snack_queue, bins=9, kde=False, fit=stats.expon);\n",
    "plt.xlim(snack_queue.min())\n",
    "plt.ylim(0,0.005)\n",
    "plt.xlabel('Queue time at the Snackbar in seconds')\n",
    "plt.show()"
   ]
  },
  {
   "cell_type": "code",
   "execution_count": 58,
   "id": "fc503980",
   "metadata": {},
   "outputs": [
    {
     "name": "stdout",
     "output_type": "stream",
     "text": [
      "Parameters used for Anylogic:\n",
      "(10.65, 224.58826086956518)\n"
     ]
    }
   ],
   "source": [
    "fitted_expon = stats.expon.fit(snack_queue)\n",
    "print('Parameters used for Anylogic:')\n",
    "print(fitted_expon) # shape, xmin"
   ]
  },
  {
   "cell_type": "markdown",
   "id": "bf3c40dd",
   "metadata": {},
   "source": [
    "## SNACK ORDERING"
   ]
  },
  {
   "cell_type": "code",
   "execution_count": 59,
   "id": "7a54fbfd",
   "metadata": {},
   "outputs": [
    {
     "data": {
      "text/html": [
       "<div>\n",
       "<style scoped>\n",
       "    .dataframe tbody tr th:only-of-type {\n",
       "        vertical-align: middle;\n",
       "    }\n",
       "\n",
       "    .dataframe tbody tr th {\n",
       "        vertical-align: top;\n",
       "    }\n",
       "\n",
       "    .dataframe thead th {\n",
       "        text-align: right;\n",
       "    }\n",
       "</style>\n",
       "<table border=\"1\" class=\"dataframe\">\n",
       "  <thead>\n",
       "    <tr style=\"text-align: right;\">\n",
       "      <th></th>\n",
       "      <th>sumsquare_error</th>\n",
       "      <th>aic</th>\n",
       "      <th>bic</th>\n",
       "      <th>kl_div</th>\n",
       "    </tr>\n",
       "  </thead>\n",
       "  <tbody>\n",
       "    <tr>\n",
       "      <th>gamma</th>\n",
       "      <td>0.009288</td>\n",
       "      <td>1087.309824</td>\n",
       "      <td>-602.306884</td>\n",
       "      <td>inf</td>\n",
       "    </tr>\n",
       "    <tr>\n",
       "      <th>expon</th>\n",
       "      <td>0.010427</td>\n",
       "      <td>1070.793336</td>\n",
       "      <td>-598.554709</td>\n",
       "      <td>inf</td>\n",
       "    </tr>\n",
       "    <tr>\n",
       "      <th>norm</th>\n",
       "      <td>0.012280</td>\n",
       "      <td>1200.270191</td>\n",
       "      <td>-587.272260</td>\n",
       "      <td>inf</td>\n",
       "    </tr>\n",
       "    <tr>\n",
       "      <th>uniform</th>\n",
       "      <td>0.018267</td>\n",
       "      <td>934.277122</td>\n",
       "      <td>-559.869373</td>\n",
       "      <td>inf</td>\n",
       "    </tr>\n",
       "    <tr>\n",
       "      <th>lognorm</th>\n",
       "      <td>0.055887</td>\n",
       "      <td>1277.794243</td>\n",
       "      <td>-478.475780</td>\n",
       "      <td>inf</td>\n",
       "    </tr>\n",
       "  </tbody>\n",
       "</table>\n",
       "</div>"
      ],
      "text/plain": [
       "         sumsquare_error          aic         bic  kl_div\n",
       "gamma           0.009288  1087.309824 -602.306884     inf\n",
       "expon           0.010427  1070.793336 -598.554709     inf\n",
       "norm            0.012280  1200.270191 -587.272260     inf\n",
       "uniform         0.018267   934.277122 -559.869373     inf\n",
       "lognorm         0.055887  1277.794243 -478.475780     inf"
      ]
     },
     "execution_count": 59,
     "metadata": {},
     "output_type": "execute_result"
    }
   ],
   "source": [
    "f = Fitter(snack_ordering, \n",
    "           distributions=['chi2',\n",
    "                         'expon',\n",
    "                         'gamma',\n",
    "                         'lognorm',\n",
    "                         'norm',\n",
    "                         'uniform'])\n",
    "f.fit()\n",
    "f.summary(plot=False)"
   ]
  },
  {
   "cell_type": "code",
   "execution_count": 60,
   "id": "466be13c",
   "metadata": {},
   "outputs": [
    {
     "name": "stderr",
     "output_type": "stream",
     "text": [
      "C:\\ProgramData\\Anaconda3\\lib\\site-packages\\seaborn\\distributions.py:2619: FutureWarning: `distplot` is a deprecated function and will be removed in a future version. Please adapt your code to use either `displot` (a figure-level function with similar flexibility) or `histplot` (an axes-level function for histograms).\n",
      "  warnings.warn(msg, FutureWarning)\n"
     ]
    },
    {
     "data": {
      "image/png": "[encoded data removed]",
      "text/plain": [
       "<Figure size 360x288 with 1 Axes>"
      ]
     },
     "metadata": {
      "needs_background": "light"
     },
     "output_type": "display_data"
    }
   ],
   "source": [
    "sns.distplot(snack_ordering, bins=9, kde=False, fit=stats.gamma);\n",
    "plt.xlim(snack_ordering.min(), 120)\n",
    "plt.ylim(0,0.035)\n",
    "plt.xlabel('Snack ordering time in seconds')\n",
    "plt.show()"
   ]
  },
  {
   "cell_type": "code",
   "execution_count": 61,
   "id": "4b93b152",
   "metadata": {},
   "outputs": [
    {
     "name": "stdout",
     "output_type": "stream",
     "text": [
      "Parameters used for Anylogic:\n"
     ]
    },
    {
     "data": {
      "text/plain": [
       "(1.4012504141367705, 17.721576271388223, 5.07)"
      ]
     },
     "execution_count": 61,
     "metadata": {},
     "output_type": "execute_result"
    }
   ],
   "source": [
    "shape, loc, scale = stats.gamma.fit(snack_ordering)\n",
    "\n",
    "print('Parameters used for Anylogic:')\n",
    "shape, scale, snack_ordering.min()  # shape, scale, xmin"
   ]
  },
  {
   "cell_type": "markdown",
   "id": "b322ac8d",
   "metadata": {},
   "source": [
    "## SNACK PREPARING"
   ]
  },
  {
   "cell_type": "code",
   "execution_count": 62,
   "id": "090414dd",
   "metadata": {},
   "outputs": [
    {
     "data": {
      "text/html": [
       "<div>\n",
       "<style scoped>\n",
       "    .dataframe tbody tr th:only-of-type {\n",
       "        vertical-align: middle;\n",
       "    }\n",
       "\n",
       "    .dataframe tbody tr th {\n",
       "        vertical-align: top;\n",
       "    }\n",
       "\n",
       "    .dataframe thead th {\n",
       "        text-align: right;\n",
       "    }\n",
       "</style>\n",
       "<table border=\"1\" class=\"dataframe\">\n",
       "  <thead>\n",
       "    <tr style=\"text-align: right;\">\n",
       "      <th></th>\n",
       "      <th>sumsquare_error</th>\n",
       "      <th>aic</th>\n",
       "      <th>bic</th>\n",
       "      <th>kl_div</th>\n",
       "    </tr>\n",
       "  </thead>\n",
       "  <tbody>\n",
       "    <tr>\n",
       "      <th>gamma</th>\n",
       "      <td>0.012074</td>\n",
       "      <td>964.757986</td>\n",
       "      <td>-584.200560</td>\n",
       "      <td>inf</td>\n",
       "    </tr>\n",
       "    <tr>\n",
       "      <th>norm</th>\n",
       "      <td>0.013689</td>\n",
       "      <td>960.709149</td>\n",
       "      <td>-579.774192</td>\n",
       "      <td>inf</td>\n",
       "    </tr>\n",
       "    <tr>\n",
       "      <th>uniform</th>\n",
       "      <td>0.013784</td>\n",
       "      <td>915.048875</td>\n",
       "      <td>-579.297387</td>\n",
       "      <td>inf</td>\n",
       "    </tr>\n",
       "    <tr>\n",
       "      <th>expon</th>\n",
       "      <td>0.015019</td>\n",
       "      <td>979.420609</td>\n",
       "      <td>-573.379512</td>\n",
       "      <td>inf</td>\n",
       "    </tr>\n",
       "    <tr>\n",
       "      <th>lognorm</th>\n",
       "      <td>0.052593</td>\n",
       "      <td>1237.092647</td>\n",
       "      <td>-482.667357</td>\n",
       "      <td>inf</td>\n",
       "    </tr>\n",
       "  </tbody>\n",
       "</table>\n",
       "</div>"
      ],
      "text/plain": [
       "         sumsquare_error          aic         bic  kl_div\n",
       "gamma           0.012074   964.757986 -584.200560     inf\n",
       "norm            0.013689   960.709149 -579.774192     inf\n",
       "uniform         0.013784   915.048875 -579.297387     inf\n",
       "expon           0.015019   979.420609 -573.379512     inf\n",
       "lognorm         0.052593  1237.092647 -482.667357     inf"
      ]
     },
     "execution_count": 62,
     "metadata": {},
     "output_type": "execute_result"
    }
   ],
   "source": [
    "f = Fitter(snack_preparing, \n",
    "           distributions=['chi2',\n",
    "                         'expon',\n",
    "                         'gamma',\n",
    "                         'lognorm',\n",
    "                         'norm',\n",
    "                         'uniform'])\n",
    "f.fit()\n",
    "f.summary(plot=False)"
   ]
  },
  {
   "cell_type": "code",
   "execution_count": 63,
   "id": "f901c321",
   "metadata": {},
   "outputs": [
    {
     "name": "stderr",
     "output_type": "stream",
     "text": [
      "C:\\ProgramData\\Anaconda3\\lib\\site-packages\\seaborn\\distributions.py:2619: FutureWarning: `distplot` is a deprecated function and will be removed in a future version. Please adapt your code to use either `displot` (a figure-level function with similar flexibility) or `histplot` (an axes-level function for histograms).\n",
      "  warnings.warn(msg, FutureWarning)\n"
     ]
    },
    {
     "data": {
      "image/png": "[encoded data removed]",
      "text/plain": [
       "<Figure size 360x288 with 1 Axes>"
      ]
     },
     "metadata": {
      "needs_background": "light"
     },
     "output_type": "display_data"
    }
   ],
   "source": [
    "sns.distplot(snack_preparing, bins=9, kde=False, fit=stats.gamma);\n",
    "plt.xlim(snack_preparing.min(), 100)\n",
    "plt.ylim(0,0.030)\n",
    "plt.xlabel('Snack preparing time in seconds')\n",
    "plt.show()"
   ]
  },
  {
   "cell_type": "code",
   "execution_count": 64,
   "id": "d86b80fd",
   "metadata": {},
   "outputs": [
    {
     "name": "stdout",
     "output_type": "stream",
     "text": [
      "Parameters used for Anylogic:\n"
     ]
    },
    {
     "data": {
      "text/plain": [
       "(2.8497479794533622, 15.513728095518992, 1.48)"
      ]
     },
     "execution_count": 64,
     "metadata": {},
     "output_type": "execute_result"
    }
   ],
   "source": [
    "shape, loc, scale = stats.gamma.fit(snack_preparing)\n",
    "\n",
    "print('Parameters used for Anylogic:')\n",
    "shape, scale, snack_preparing.min()  # shape, scale, xmin"
   ]
  },
  {
   "cell_type": "markdown",
   "id": "61856542",
   "metadata": {},
   "source": [
    "## SNACK PAYING"
   ]
  },
  {
   "cell_type": "code",
   "execution_count": 65,
   "id": "f327cf51",
   "metadata": {},
   "outputs": [
    {
     "data": {
      "text/html": [
       "<div>\n",
       "<style scoped>\n",
       "    .dataframe tbody tr th:only-of-type {\n",
       "        vertical-align: middle;\n",
       "    }\n",
       "\n",
       "    .dataframe tbody tr th {\n",
       "        vertical-align: top;\n",
       "    }\n",
       "\n",
       "    .dataframe thead th {\n",
       "        text-align: right;\n",
       "    }\n",
       "</style>\n",
       "<table border=\"1\" class=\"dataframe\">\n",
       "  <thead>\n",
       "    <tr style=\"text-align: right;\">\n",
       "      <th></th>\n",
       "      <th>sumsquare_error</th>\n",
       "      <th>aic</th>\n",
       "      <th>bic</th>\n",
       "      <th>kl_div</th>\n",
       "    </tr>\n",
       "  </thead>\n",
       "  <tbody>\n",
       "    <tr>\n",
       "      <th>lognorm</th>\n",
       "      <td>0.002526</td>\n",
       "      <td>1400.216019</td>\n",
       "      <td>-692.158157</td>\n",
       "      <td>inf</td>\n",
       "    </tr>\n",
       "    <tr>\n",
       "      <th>expon</th>\n",
       "      <td>0.003492</td>\n",
       "      <td>1399.836644</td>\n",
       "      <td>-674.033507</td>\n",
       "      <td>inf</td>\n",
       "    </tr>\n",
       "    <tr>\n",
       "      <th>norm</th>\n",
       "      <td>0.006107</td>\n",
       "      <td>1774.073149</td>\n",
       "      <td>-635.471883</td>\n",
       "      <td>inf</td>\n",
       "    </tr>\n",
       "    <tr>\n",
       "      <th>uniform</th>\n",
       "      <td>0.010720</td>\n",
       "      <td>1055.092411</td>\n",
       "      <td>-596.641863</td>\n",
       "      <td>inf</td>\n",
       "    </tr>\n",
       "    <tr>\n",
       "      <th>gamma</th>\n",
       "      <td>0.023680</td>\n",
       "      <td>9832.388370</td>\n",
       "      <td>-537.727278</td>\n",
       "      <td>inf</td>\n",
       "    </tr>\n",
       "  </tbody>\n",
       "</table>\n",
       "</div>"
      ],
      "text/plain": [
       "         sumsquare_error          aic         bic  kl_div\n",
       "lognorm         0.002526  1400.216019 -692.158157     inf\n",
       "expon           0.003492  1399.836644 -674.033507     inf\n",
       "norm            0.006107  1774.073149 -635.471883     inf\n",
       "uniform         0.010720  1055.092411 -596.641863     inf\n",
       "gamma           0.023680  9832.388370 -537.727278     inf"
      ]
     },
     "execution_count": 65,
     "metadata": {},
     "output_type": "execute_result"
    }
   ],
   "source": [
    "f = Fitter(snack_paying, \n",
    "           distributions=['chi2',\n",
    "                         'expon',\n",
    "                         'gamma',\n",
    "                         'lognorm',\n",
    "                         'norm',\n",
    "                         'uniform'])\n",
    "f.fit()\n",
    "f.summary(plot=False)"
   ]
  },
  {
   "cell_type": "code",
   "execution_count": 66,
   "id": "577df0b0",
   "metadata": {},
   "outputs": [
    {
     "name": "stderr",
     "output_type": "stream",
     "text": [
      "C:\\ProgramData\\Anaconda3\\lib\\site-packages\\seaborn\\distributions.py:2619: FutureWarning: `distplot` is a deprecated function and will be removed in a future version. Please adapt your code to use either `displot` (a figure-level function with similar flexibility) or `histplot` (an axes-level function for histograms).\n",
      "  warnings.warn(msg, FutureWarning)\n"
     ]
    },
    {
     "data": {
      "image/png": "[encoded data removed]",
      "text/plain": [
       "<Figure size 360x288 with 1 Axes>"
      ]
     },
     "metadata": {
      "needs_background": "light"
     },
     "output_type": "display_data"
    }
   ],
   "source": [
    "sns.distplot(snack_paying, bins=9, kde=False, fit=stats.lognorm);\n",
    "plt.xlim(snack_paying.min(),200)\n",
    "plt.ylim(0,)\n",
    "plt.xlabel('Snack Paying time in seconds')\n",
    "plt.show()"
   ]
  },
  {
   "cell_type": "code",
   "execution_count": 67,
   "id": "7e98b0af",
   "metadata": {},
   "outputs": [
    {
     "name": "stdout",
     "output_type": "stream",
     "text": [
      "Parameters used for Anylogic:\n"
     ]
    },
    {
     "data": {
      "text/plain": [
       "(3.0277285411024155, 0.7900862451159358, 1.18)"
      ]
     },
     "execution_count": 67,
     "metadata": {},
     "output_type": "execute_result"
    }
   ],
   "source": [
    "shape, loc, scale = stats.lognorm.fit(snack_paying)\n",
    "\n",
    "print('Parameters used for Anylogic:')\n",
    "np.log(scale), shape, snack_paying.min()  # mu, sigma, xmin"
   ]
  },
  {
   "cell_type": "markdown",
   "id": "c9e0b955",
   "metadata": {},
   "source": [
    "## TOTAL TIME SNACKBAR"
   ]
  },
  {
   "cell_type": "code",
   "execution_count": 68,
   "id": "6aab21c1",
   "metadata": {},
   "outputs": [
    {
     "data": {
      "text/html": [
       "<div>\n",
       "<style scoped>\n",
       "    .dataframe tbody tr th:only-of-type {\n",
       "        vertical-align: middle;\n",
       "    }\n",
       "\n",
       "    .dataframe tbody tr th {\n",
       "        vertical-align: top;\n",
       "    }\n",
       "\n",
       "    .dataframe thead th {\n",
       "        text-align: right;\n",
       "    }\n",
       "</style>\n",
       "<table border=\"1\" class=\"dataframe\">\n",
       "  <thead>\n",
       "    <tr style=\"text-align: right;\">\n",
       "      <th></th>\n",
       "      <th>sumsquare_error</th>\n",
       "      <th>aic</th>\n",
       "      <th>bic</th>\n",
       "      <th>kl_div</th>\n",
       "    </tr>\n",
       "  </thead>\n",
       "  <tbody>\n",
       "    <tr>\n",
       "      <th>chi2</th>\n",
       "      <td>0.000190</td>\n",
       "      <td>1450.861596</td>\n",
       "      <td>-870.839040</td>\n",
       "      <td>inf</td>\n",
       "    </tr>\n",
       "    <tr>\n",
       "      <th>gamma</th>\n",
       "      <td>0.000190</td>\n",
       "      <td>1450.861655</td>\n",
       "      <td>-870.839038</td>\n",
       "      <td>inf</td>\n",
       "    </tr>\n",
       "    <tr>\n",
       "      <th>expon</th>\n",
       "      <td>0.000195</td>\n",
       "      <td>1451.631989</td>\n",
       "      <td>-873.141238</td>\n",
       "      <td>inf</td>\n",
       "    </tr>\n",
       "    <tr>\n",
       "      <th>norm</th>\n",
       "      <td>0.000216</td>\n",
       "      <td>1484.003318</td>\n",
       "      <td>-866.206592</td>\n",
       "      <td>inf</td>\n",
       "    </tr>\n",
       "    <tr>\n",
       "      <th>uniform</th>\n",
       "      <td>0.000243</td>\n",
       "      <td>1361.931689</td>\n",
       "      <td>-857.906825</td>\n",
       "      <td>inf</td>\n",
       "    </tr>\n",
       "  </tbody>\n",
       "</table>\n",
       "</div>"
      ],
      "text/plain": [
       "         sumsquare_error          aic         bic  kl_div\n",
       "chi2            0.000190  1450.861596 -870.839040     inf\n",
       "gamma           0.000190  1450.861655 -870.839038     inf\n",
       "expon           0.000195  1451.631989 -873.141238     inf\n",
       "norm            0.000216  1484.003318 -866.206592     inf\n",
       "uniform         0.000243  1361.931689 -857.906825     inf"
      ]
     },
     "execution_count": 68,
     "metadata": {},
     "output_type": "execute_result"
    }
   ],
   "source": [
    "f = Fitter(total_time_snackbar, \n",
    "           distributions=['chi2',\n",
    "                         'expon',\n",
    "                         'gamma',\n",
    "                         'lognorm',\n",
    "                         'norm',\n",
    "                         'uniform'])\n",
    "f.fit()\n",
    "f.summary(plot=False)"
   ]
  },
  {
   "cell_type": "code",
   "execution_count": 69,
   "id": "bc4a630d",
   "metadata": {},
   "outputs": [
    {
     "name": "stderr",
     "output_type": "stream",
     "text": [
      "C:\\ProgramData\\Anaconda3\\lib\\site-packages\\seaborn\\distributions.py:2619: FutureWarning: `distplot` is a deprecated function and will be removed in a future version. Please adapt your code to use either `displot` (a figure-level function with similar flexibility) or `histplot` (an axes-level function for histograms).\n",
      "  warnings.warn(msg, FutureWarning)\n"
     ]
    },
    {
     "data": {
      "image/png": "[encoded data removed]",
      "text/plain": [
       "<Figure size 360x288 with 1 Axes>"
      ]
     },
     "metadata": {
      "needs_background": "light"
     },
     "output_type": "display_data"
    }
   ],
   "source": [
    "sns.distplot(total_time_snackbar, bins=9, kde=False, fit=stats.chi2);\n",
    "plt.xlim(total_time_snackbar.min(),1000)\n",
    "plt.ylim(0,0.003)\n",
    "plt.xlabel('Total time at the snackbar in seconds')\n",
    "plt.show()"
   ]
  },
  {
   "cell_type": "code",
   "execution_count": 70,
   "id": "7169f5ce",
   "metadata": {},
   "outputs": [
    {
     "name": "stdout",
     "output_type": "stream",
     "text": [
      "Parameters used for Anylogic:\n"
     ]
    },
    {
     "data": {
      "text/plain": [
       "(2.9063705486387326, 60.88)"
      ]
     },
     "execution_count": 70,
     "metadata": {},
     "output_type": "execute_result"
    }
   ],
   "source": [
    "shape, loc, scale = stats.chi2.fit(total_time_snackbar)\n",
    "\n",
    "print('Parameters used for Anylogic:')\n",
    "shape, total_time_snackbar.min()  # shape, xmin"
   ]
  },
  {
   "cell_type": "markdown",
   "id": "8d5c645f",
   "metadata": {},
   "source": [
    "## -------------------------------------------------------------------------------------------------------------------------------"
   ]
  },
  {
   "cell_type": "markdown",
   "id": "91689ebc",
   "metadata": {},
   "source": [
    "## Special distributions for the new model"
   ]
  },
  {
   "cell_type": "code",
   "execution_count": 71,
   "id": "4f70c239",
   "metadata": {},
   "outputs": [],
   "source": [
    "# for the new model\n",
    "OrderSnack = df.loc[:68,'snack ordering'] + df.loc[:68,'snack paying']\n",
    "OrderTicketAndSnack = df.loc[:68,'snack ordering'] + df.loc[:68,'snack paying'] + df.loc[:28,'ticket machine']\n",
    "OrderTicketAndSnack = OrderTicketAndSnack.dropna()\n",
    "OrderTicket = df.loc[:28,'ticket machine']"
   ]
  },
  {
   "cell_type": "markdown",
   "id": "dc9741d7",
   "metadata": {},
   "source": [
    "## OrderingSnackNew"
   ]
  },
  {
   "cell_type": "code",
   "execution_count": 72,
   "id": "beadf472",
   "metadata": {},
   "outputs": [
    {
     "data": {
      "text/html": [
       "<div>\n",
       "<style scoped>\n",
       "    .dataframe tbody tr th:only-of-type {\n",
       "        vertical-align: middle;\n",
       "    }\n",
       "\n",
       "    .dataframe tbody tr th {\n",
       "        vertical-align: top;\n",
       "    }\n",
       "\n",
       "    .dataframe thead th {\n",
       "        text-align: right;\n",
       "    }\n",
       "</style>\n",
       "<table border=\"1\" class=\"dataframe\">\n",
       "  <thead>\n",
       "    <tr style=\"text-align: right;\">\n",
       "      <th></th>\n",
       "      <th>sumsquare_error</th>\n",
       "      <th>aic</th>\n",
       "      <th>bic</th>\n",
       "      <th>kl_div</th>\n",
       "    </tr>\n",
       "  </thead>\n",
       "  <tbody>\n",
       "    <tr>\n",
       "      <th>lognorm</th>\n",
       "      <td>0.004221</td>\n",
       "      <td>1278.962930</td>\n",
       "      <td>-656.722634</td>\n",
       "      <td>inf</td>\n",
       "    </tr>\n",
       "    <tr>\n",
       "      <th>expon</th>\n",
       "      <td>0.005705</td>\n",
       "      <td>1234.942145</td>\n",
       "      <td>-640.161738</td>\n",
       "      <td>inf</td>\n",
       "    </tr>\n",
       "    <tr>\n",
       "      <th>norm</th>\n",
       "      <td>0.006090</td>\n",
       "      <td>1429.782806</td>\n",
       "      <td>-635.660705</td>\n",
       "      <td>inf</td>\n",
       "    </tr>\n",
       "    <tr>\n",
       "      <th>uniform</th>\n",
       "      <td>0.008201</td>\n",
       "      <td>1069.390683</td>\n",
       "      <td>-615.124783</td>\n",
       "      <td>inf</td>\n",
       "    </tr>\n",
       "    <tr>\n",
       "      <th>chi2</th>\n",
       "      <td>0.033318</td>\n",
       "      <td>2414.335599</td>\n",
       "      <td>-514.164481</td>\n",
       "      <td>inf</td>\n",
       "    </tr>\n",
       "  </tbody>\n",
       "</table>\n",
       "</div>"
      ],
      "text/plain": [
       "         sumsquare_error          aic         bic  kl_div\n",
       "lognorm         0.004221  1278.962930 -656.722634     inf\n",
       "expon           0.005705  1234.942145 -640.161738     inf\n",
       "norm            0.006090  1429.782806 -635.660705     inf\n",
       "uniform         0.008201  1069.390683 -615.124783     inf\n",
       "chi2            0.033318  2414.335599 -514.164481     inf"
      ]
     },
     "execution_count": 72,
     "metadata": {},
     "output_type": "execute_result"
    }
   ],
   "source": [
    "f = Fitter(OrderSnack, \n",
    "           distributions=['chi2',\n",
    "                         'expon',\n",
    "                         'gamma',\n",
    "                         'lognorm',\n",
    "                         'norm',\n",
    "                         'uniform'])\n",
    "f.fit()\n",
    "f.summary(plot=False)"
   ]
  },
  {
   "cell_type": "code",
   "execution_count": 73,
   "id": "ae78b9bf",
   "metadata": {},
   "outputs": [
    {
     "name": "stderr",
     "output_type": "stream",
     "text": [
      "C:\\ProgramData\\Anaconda3\\lib\\site-packages\\seaborn\\distributions.py:2619: FutureWarning: `distplot` is a deprecated function and will be removed in a future version. Please adapt your code to use either `displot` (a figure-level function with similar flexibility) or `histplot` (an axes-level function for histograms).\n",
      "  warnings.warn(msg, FutureWarning)\n"
     ]
    },
    {
     "data": {
      "image/png": "[encoded data removed]",
      "text/plain": [
       "<Figure size 360x288 with 1 Axes>"
      ]
     },
     "metadata": {
      "needs_background": "light"
     },
     "output_type": "display_data"
    }
   ],
   "source": [
    "sns.distplot(OrderSnack, bins=9, kde=False, fit=stats.lognorm);\n",
    "plt.xlim(OrderSnack.min(),250)\n",
    "plt.ylim(0,)\n",
    "plt.xlabel('Ordering only snack time in seconds')\n",
    "plt.show()"
   ]
  },
  {
   "cell_type": "code",
   "execution_count": 74,
   "id": "14bfe608",
   "metadata": {},
   "outputs": [
    {
     "name": "stdout",
     "output_type": "stream",
     "text": [
      "Parameters used for Anylogic:\n"
     ]
    },
    {
     "data": {
      "text/plain": [
       "(3.628494724903264, 0.691352671289218, 13.46)"
      ]
     },
     "execution_count": 74,
     "metadata": {},
     "output_type": "execute_result"
    }
   ],
   "source": [
    "shape, loc, scale = stats.lognorm.fit(OrderSnack)\n",
    "\n",
    "print('Parameters used for Anylogic:')\n",
    "np.log(scale), shape, OrderSnack.min()  # mu, sigma, xmin"
   ]
  },
  {
   "cell_type": "markdown",
   "id": "2603b40b",
   "metadata": {},
   "source": [
    "## OrderingTicketAndSnackNew"
   ]
  },
  {
   "cell_type": "code",
   "execution_count": 75,
   "id": "2f18b444",
   "metadata": {},
   "outputs": [
    {
     "data": {
      "text/html": [
       "<div>\n",
       "<style scoped>\n",
       "    .dataframe tbody tr th:only-of-type {\n",
       "        vertical-align: middle;\n",
       "    }\n",
       "\n",
       "    .dataframe tbody tr th {\n",
       "        vertical-align: top;\n",
       "    }\n",
       "\n",
       "    .dataframe thead th {\n",
       "        text-align: right;\n",
       "    }\n",
       "</style>\n",
       "<table border=\"1\" class=\"dataframe\">\n",
       "  <thead>\n",
       "    <tr style=\"text-align: right;\">\n",
       "      <th></th>\n",
       "      <th>sumsquare_error</th>\n",
       "      <th>aic</th>\n",
       "      <th>bic</th>\n",
       "      <th>kl_div</th>\n",
       "    </tr>\n",
       "  </thead>\n",
       "  <tbody>\n",
       "    <tr>\n",
       "      <th>expon</th>\n",
       "      <td>0.011424</td>\n",
       "      <td>1263.745053</td>\n",
       "      <td>-220.606905</td>\n",
       "      <td>inf</td>\n",
       "    </tr>\n",
       "    <tr>\n",
       "      <th>norm</th>\n",
       "      <td>0.014498</td>\n",
       "      <td>1333.627157</td>\n",
       "      <td>-213.694993</td>\n",
       "      <td>inf</td>\n",
       "    </tr>\n",
       "    <tr>\n",
       "      <th>lognorm</th>\n",
       "      <td>0.017193</td>\n",
       "      <td>1444.099037</td>\n",
       "      <td>-205.384665</td>\n",
       "      <td>inf</td>\n",
       "    </tr>\n",
       "    <tr>\n",
       "      <th>uniform</th>\n",
       "      <td>0.017245</td>\n",
       "      <td>1045.940942</td>\n",
       "      <td>-208.664033</td>\n",
       "      <td>inf</td>\n",
       "    </tr>\n",
       "    <tr>\n",
       "      <th>gamma</th>\n",
       "      <td>0.020808</td>\n",
       "      <td>5256.056722</td>\n",
       "      <td>-199.850484</td>\n",
       "      <td>inf</td>\n",
       "    </tr>\n",
       "  </tbody>\n",
       "</table>\n",
       "</div>"
      ],
      "text/plain": [
       "         sumsquare_error          aic         bic  kl_div\n",
       "expon           0.011424  1263.745053 -220.606905     inf\n",
       "norm            0.014498  1333.627157 -213.694993     inf\n",
       "lognorm         0.017193  1444.099037 -205.384665     inf\n",
       "uniform         0.017245  1045.940942 -208.664033     inf\n",
       "gamma           0.020808  5256.056722 -199.850484     inf"
      ]
     },
     "execution_count": 75,
     "metadata": {},
     "output_type": "execute_result"
    }
   ],
   "source": [
    "f = Fitter(OrderTicketAndSnack, \n",
    "           distributions=['chi2',\n",
    "                         'expon',\n",
    "                         'gamma',\n",
    "                         'lognorm',\n",
    "                         'norm',\n",
    "                         'uniform'])\n",
    "f.fit()\n",
    "f.summary(plot=False)"
   ]
  },
  {
   "cell_type": "code",
   "execution_count": 76,
   "id": "4f09f919",
   "metadata": {},
   "outputs": [
    {
     "name": "stderr",
     "output_type": "stream",
     "text": [
      "C:\\ProgramData\\Anaconda3\\lib\\site-packages\\seaborn\\distributions.py:2619: FutureWarning: `distplot` is a deprecated function and will be removed in a future version. Please adapt your code to use either `displot` (a figure-level function with similar flexibility) or `histplot` (an axes-level function for histograms).\n",
      "  warnings.warn(msg, FutureWarning)\n"
     ]
    },
    {
     "data": {
      "image/png": "[encoded data removed]",
      "text/plain": [
       "<Figure size 360x288 with 1 Axes>"
      ]
     },
     "metadata": {
      "needs_background": "light"
     },
     "output_type": "display_data"
    }
   ],
   "source": [
    "sns.distplot(OrderTicketAndSnack, bins=9, kde=False, fit=stats.expon);\n",
    "plt.xlim(OrderTicketAndSnack.min(),)\n",
    "plt.ylim(0,)\n",
    "plt.xlabel('Order ticket and snack time in seconds')\n",
    "plt.show()"
   ]
  },
  {
   "cell_type": "code",
   "execution_count": 77,
   "id": "a83d1b8e",
   "metadata": {},
   "outputs": [
    {
     "name": "stdout",
     "output_type": "stream",
     "text": [
      "Parameters used for Anylogic:\n",
      "(86.22999999999999, 32.47344827586208)\n"
     ]
    }
   ],
   "source": [
    "fitted_expon = stats.expon.fit(OrderTicketAndSnack)\n",
    "print('Parameters used for Anylogic:')\n",
    "print(fitted_expon) # shape, xmin"
   ]
  },
  {
   "cell_type": "markdown",
   "id": "d354b113",
   "metadata": {},
   "source": [
    "## OrderingTicketNew"
   ]
  },
  {
   "cell_type": "code",
   "execution_count": 78,
   "id": "7c581721",
   "metadata": {},
   "outputs": [
    {
     "data": {
      "text/html": [
       "<div>\n",
       "<style scoped>\n",
       "    .dataframe tbody tr th:only-of-type {\n",
       "        vertical-align: middle;\n",
       "    }\n",
       "\n",
       "    .dataframe tbody tr th {\n",
       "        vertical-align: top;\n",
       "    }\n",
       "\n",
       "    .dataframe thead th {\n",
       "        text-align: right;\n",
       "    }\n",
       "</style>\n",
       "<table border=\"1\" class=\"dataframe\">\n",
       "  <thead>\n",
       "    <tr style=\"text-align: right;\">\n",
       "      <th></th>\n",
       "      <th>sumsquare_error</th>\n",
       "      <th>aic</th>\n",
       "      <th>bic</th>\n",
       "      <th>kl_div</th>\n",
       "    </tr>\n",
       "  </thead>\n",
       "  <tbody>\n",
       "    <tr>\n",
       "      <th>lognorm</th>\n",
       "      <td>0.117150</td>\n",
       "      <td>896.178997</td>\n",
       "      <td>-149.734325</td>\n",
       "      <td>inf</td>\n",
       "    </tr>\n",
       "    <tr>\n",
       "      <th>gamma</th>\n",
       "      <td>0.117264</td>\n",
       "      <td>894.625832</td>\n",
       "      <td>-149.706169</td>\n",
       "      <td>inf</td>\n",
       "    </tr>\n",
       "    <tr>\n",
       "      <th>norm</th>\n",
       "      <td>0.118263</td>\n",
       "      <td>897.078247</td>\n",
       "      <td>-152.827587</td>\n",
       "      <td>inf</td>\n",
       "    </tr>\n",
       "    <tr>\n",
       "      <th>uniform</th>\n",
       "      <td>0.129707</td>\n",
       "      <td>826.174773</td>\n",
       "      <td>-150.148829</td>\n",
       "      <td>inf</td>\n",
       "    </tr>\n",
       "    <tr>\n",
       "      <th>expon</th>\n",
       "      <td>0.136066</td>\n",
       "      <td>890.280838</td>\n",
       "      <td>-148.760848</td>\n",
       "      <td>inf</td>\n",
       "    </tr>\n",
       "  </tbody>\n",
       "</table>\n",
       "</div>"
      ],
      "text/plain": [
       "         sumsquare_error         aic         bic  kl_div\n",
       "lognorm         0.117150  896.178997 -149.734325     inf\n",
       "gamma           0.117264  894.625832 -149.706169     inf\n",
       "norm            0.118263  897.078247 -152.827587     inf\n",
       "uniform         0.129707  826.174773 -150.148829     inf\n",
       "expon           0.136066  890.280838 -148.760848     inf"
      ]
     },
     "execution_count": 78,
     "metadata": {},
     "output_type": "execute_result"
    }
   ],
   "source": [
    "f = Fitter(OrderTicket, \n",
    "           distributions=['chi2',\n",
    "                         'expon',\n",
    "                         'gamma',\n",
    "                         'lognorm',\n",
    "                         'norm',\n",
    "                         'uniform'])\n",
    "f.fit()\n",
    "f.summary(plot=False)"
   ]
  },
  {
   "cell_type": "code",
   "execution_count": 79,
   "id": "2c11ff10",
   "metadata": {},
   "outputs": [
    {
     "name": "stderr",
     "output_type": "stream",
     "text": [
      "C:\\ProgramData\\Anaconda3\\lib\\site-packages\\seaborn\\distributions.py:2619: FutureWarning: `distplot` is a deprecated function and will be removed in a future version. Please adapt your code to use either `displot` (a figure-level function with similar flexibility) or `histplot` (an axes-level function for histograms).\n",
      "  warnings.warn(msg, FutureWarning)\n"
     ]
    },
    {
     "data": {
      "image/png": "[encoded data removed]",
      "text/plain": [
       "<Figure size 360x288 with 1 Axes>"
      ]
     },
     "metadata": {
      "needs_background": "light"
     },
     "output_type": "display_data"
    }
   ],
   "source": [
    "sns.distplot(OrderTicket, bins=9, kde=False, fit=stats.lognorm);\n",
    "plt.xlim(OrderTicket.min(),)\n",
    "plt.ylim(0,)\n",
    "plt.xlabel('Ordering ticket time in seconds')\n",
    "plt.show()"
   ]
  },
  {
   "cell_type": "code",
   "execution_count": 80,
   "id": "806cce11",
   "metadata": {},
   "outputs": [
    {
     "name": "stdout",
     "output_type": "stream",
     "text": [
      "Parameters used for Anylogic:\n"
     ]
    },
    {
     "data": {
      "text/plain": [
       "(4.159038310216643, 0.19555768039755267, 42.0)"
      ]
     },
     "execution_count": 80,
     "metadata": {},
     "output_type": "execute_result"
    }
   ],
   "source": [
    "shape, loc, scale = stats.lognorm.fit(OrderTicket)\n",
    "\n",
    "print('Parameters used for Anylogic:')\n",
    "np.log(scale), shape, OrderTicket.min()  # mu, sigma, xmin"
   ]
  }
 ],
 "metadata": {
  "kernelspec": {
   "display_name": "Python 3 (ipykernel)",
   "language": "python",
   "name": "python3"
  },
  "language_info": {
   "codemirror_mode": {
    "name": "ipython",
    "version": 3
   },
   "file_extension": ".py",
   "mimetype": "text/x-python",
   "name": "python",
   "nbconvert_exporter": "python",
   "pygments_lexer": "ipython3",
   "version": "3.9.7"
  }
 },
 "nbformat": 4,
 "nbformat_minor": 5
}
