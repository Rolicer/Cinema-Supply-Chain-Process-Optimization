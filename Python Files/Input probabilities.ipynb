{
 "cells": [
  {
   "cell_type": "markdown",
   "id": "021055c9",
   "metadata": {},
   "source": [
    "## Disclaimer"
   ]
  },
  {
   "cell_type": "markdown",
   "id": "c3275b4d",
   "metadata": {},
   "source": [
    "This is an example of calculating the joint probabilities."
   ]
  },
  {
   "cell_type": "markdown",
   "id": "149f9ba9",
   "metadata": {},
   "source": [
    "## Importing Libraries etc"
   ]
  },
  {
   "cell_type": "code",
   "execution_count": 1,
   "id": "20da3d5e",
   "metadata": {},
   "outputs": [],
   "source": [
    "#general imports\n",
    "import numpy as np\n",
    "import pandas as pd\n",
    "from pandas import Series, DataFrame\n",
    "\n",
    "#scipy for testing\n",
    "import scipy\n",
    "import scipy.stats\n",
    "from scipy import stats\n",
    "from scipy.stats import ttest_ind\n",
    "import statsmodels.stats.api as sms\n",
    "\n",
    "# sklearn for distribution transforming\n",
    "from sklearn.preprocessing import QuantileTransformer\n",
    "\n",
    "#for visualization\n",
    "import matplotlib.pyplot as plt\n",
    "import seaborn as sns\n",
    "\n",
    "# for fitting the distribution\n",
    "from fitter import Fitter, get_common_distributions, get_distributions\n",
    "\n",
    "# other libraries\n",
    "from pylab import rcParams"
   ]
  },
  {
   "cell_type": "code",
   "execution_count": 2,
   "id": "590b592b",
   "metadata": {},
   "outputs": [],
   "source": [
    "%matplotlib inline\n",
    "rcParams['figure.figsize'] = 5,4"
   ]
  },
  {
   "cell_type": "markdown",
   "id": "21a21d7b",
   "metadata": {},
   "source": [
    "## Reading and preparing the dataset"
   ]
  },
  {
   "cell_type": "code",
   "execution_count": 3,
   "id": "512fa9a9",
   "metadata": {},
   "outputs": [
    {
     "data": {
      "text/html": [
       "<div>\n",
       "<style scoped>\n",
       "    .dataframe tbody tr th:only-of-type {\n",
       "        vertical-align: middle;\n",
       "    }\n",
       "\n",
       "    .dataframe tbody tr th {\n",
       "        vertical-align: top;\n",
       "    }\n",
       "\n",
       "    .dataframe thead th {\n",
       "        text-align: right;\n",
       "    }\n",
       "</style>\n",
       "<table border=\"1\" class=\"dataframe\">\n",
       "  <thead>\n",
       "    <tr style=\"text-align: right;\">\n",
       "      <th></th>\n",
       "      <th>Online ticket</th>\n",
       "      <th>Printed ticket</th>\n",
       "      <th>Machine</th>\n",
       "      <th>Cashier</th>\n",
       "      <th>With snacks</th>\n",
       "      <th>Without snacks</th>\n",
       "    </tr>\n",
       "  </thead>\n",
       "  <tbody>\n",
       "    <tr>\n",
       "      <th>0</th>\n",
       "      <td>113</td>\n",
       "      <td>36</td>\n",
       "      <td>16</td>\n",
       "      <td>36</td>\n",
       "      <td>137</td>\n",
       "      <td>24</td>\n",
       "    </tr>\n",
       "  </tbody>\n",
       "</table>\n",
       "</div>"
      ],
      "text/plain": [
       "   Online ticket  Printed ticket  Machine  Cashier  With snacks  \\\n",
       "0            113              36       16       36          137   \n",
       "\n",
       "   Without snacks  \n",
       "0              24  "
      ]
     },
     "execution_count": 3,
     "metadata": {},
     "output_type": "execute_result"
    }
   ],
   "source": [
    "path_to_data = 'C:/Users/dansi/OneDrive/Документы/Files/Data science/Bachelorseminar Cinedom/Data/Probabilities.csv'\n",
    "df = pd.read_csv(path_to_data)\n",
    "df.head()"
   ]
  },
  {
   "cell_type": "markdown",
   "id": "2348f451",
   "metadata": {},
   "source": [
    "## Calculating the totals and proportions (probabilities)"
   ]
  },
  {
   "cell_type": "code",
   "execution_count": 4,
   "id": "e6dff79a",
   "metadata": {},
   "outputs": [
    {
     "name": "stdout",
     "output_type": "stream",
     "text": [
      "0    0.758389\n",
      "dtype: float64\n",
      "0    0.241611\n",
      "dtype: float64\n"
     ]
    }
   ],
   "source": [
    "total_tickets = df['Online ticket'] + df['Printed ticket']\n",
    "## Reading and preparing the dataset\n",
    "Online = df['Online ticket'] / total_tickets\n",
    "CashierAndMachine = df['Printed ticket'] / total_tickets\n",
    "print(Online)\n",
    "print(CashierAndMachine)"
   ]
  },
  {
   "cell_type": "code",
   "execution_count": 5,
   "id": "a2e481e7",
   "metadata": {},
   "outputs": [
    {
     "name": "stdout",
     "output_type": "stream",
     "text": [
      "0    0.307692\n",
      "dtype: float64\n",
      "0    0.692308\n",
      "dtype: float64\n"
     ]
    }
   ],
   "source": [
    "total_CashMachine = df['Machine'] + df['Cashier']\n",
    "## Reading and preparing the dataset\n",
    "Machine = df['Machine'] / total_CashMachine\n",
    "Cashier = df['Cashier'] / total_CashMachine\n",
    "print(Machine)\n",
    "print(Cashier)"
   ]
  },
  {
   "cell_type": "code",
   "execution_count": 6,
   "id": "ed895ab9",
   "metadata": {},
   "outputs": [
    {
     "name": "stdout",
     "output_type": "stream",
     "text": [
      "0    0.850932\n",
      "dtype: float64\n",
      "0    0.149068\n",
      "dtype: float64\n"
     ]
    }
   ],
   "source": [
    "total_snacks = df['With snacks'] + df['Without snacks']\n",
    "## Reading and preparing the dataset\n",
    "Snacks = df['With snacks'] / total_snacks\n",
    "NoSnacks = df['Without snacks'] / total_snacks\n",
    "print(Snacks)\n",
    "print(NoSnacks)"
   ]
  },
  {
   "cell_type": "markdown",
   "id": "0c4a79c2",
   "metadata": {},
   "source": [
    "## Multiplying differenet probabilties for joint probabilities"
   ]
  },
  {
   "cell_type": "markdown",
   "id": "4a5feaa8",
   "metadata": {},
   "source": [
    "Description of the variables (2 examples):"
   ]
  },
  {
   "cell_type": "markdown",
   "id": "4c18fc35",
   "metadata": {},
   "source": [
    "OnlineSnacks means customers which have bought and ticket and snacks"
   ]
  },
  {
   "cell_type": "markdown",
   "id": "405e7610",
   "metadata": {},
   "source": [
    "CashierNoSacks means customers which bought a ticket at the cashdesk and haven't bought any snacks"
   ]
  },
  {
   "cell_type": "code",
   "execution_count": 7,
   "id": "ccd80a2e",
   "metadata": {},
   "outputs": [],
   "source": [
    "OnlineSnacks = Online * Snacks\n",
    "OnlineNoSnacks = Online * NoSnacks\n",
    "CashierSnacks = CashierAndMachine * Cashier * Snacks\n",
    "CashierNoSnacks = CashierAndMachine * Cashier * NoSnacks\n",
    "MachineSnacks = CashierAndMachine * Machine * Snacks\n",
    "MachineNoSnacks = CashierAndMachine * Machine * NoSnacks"
   ]
  },
  {
   "cell_type": "markdown",
   "id": "78e6f878",
   "metadata": {},
   "source": [
    "## Online + Snack"
   ]
  },
  {
   "cell_type": "code",
   "execution_count": 8,
   "id": "58bab202",
   "metadata": {},
   "outputs": [
    {
     "data": {
      "text/plain": [
       "0    0.645337\n",
       "dtype: float64"
      ]
     },
     "execution_count": 8,
     "metadata": {},
     "output_type": "execute_result"
    }
   ],
   "source": [
    "OnlineSnacks "
   ]
  },
  {
   "cell_type": "markdown",
   "id": "e772032e",
   "metadata": {},
   "source": [
    "## Online + no Snack"
   ]
  },
  {
   "cell_type": "code",
   "execution_count": 9,
   "id": "b570bde0",
   "metadata": {},
   "outputs": [
    {
     "data": {
      "text/plain": [
       "0    0.113052\n",
       "dtype: float64"
      ]
     },
     "execution_count": 9,
     "metadata": {},
     "output_type": "execute_result"
    }
   ],
   "source": [
    "OnlineNoSnacks"
   ]
  },
  {
   "cell_type": "markdown",
   "id": "889f4c86",
   "metadata": {},
   "source": [
    "## Cashier + Snack"
   ]
  },
  {
   "cell_type": "code",
   "execution_count": 10,
   "id": "49ea3583",
   "metadata": {},
   "outputs": [
    {
     "data": {
      "text/plain": [
       "0    0.142334\n",
       "dtype: float64"
      ]
     },
     "execution_count": 10,
     "metadata": {},
     "output_type": "execute_result"
    }
   ],
   "source": [
    "CashierSnacks"
   ]
  },
  {
   "cell_type": "markdown",
   "id": "89c9769d",
   "metadata": {},
   "source": [
    "## Cashier + No Snack"
   ]
  },
  {
   "cell_type": "code",
   "execution_count": 11,
   "id": "6748eefa",
   "metadata": {},
   "outputs": [
    {
     "data": {
      "text/plain": [
       "0    0.024935\n",
       "dtype: float64"
      ]
     },
     "execution_count": 11,
     "metadata": {},
     "output_type": "execute_result"
    }
   ],
   "source": [
    "CashierNoSnacks"
   ]
  },
  {
   "cell_type": "markdown",
   "id": "7d961904",
   "metadata": {},
   "source": [
    "## Machine + Snack"
   ]
  },
  {
   "cell_type": "code",
   "execution_count": 12,
   "id": "6dbcabe9",
   "metadata": {},
   "outputs": [
    {
     "data": {
      "text/plain": [
       "0    0.06326\n",
       "dtype: float64"
      ]
     },
     "execution_count": 12,
     "metadata": {},
     "output_type": "execute_result"
    }
   ],
   "source": [
    "MachineSnacks"
   ]
  },
  {
   "cell_type": "markdown",
   "id": "cadcf4eb",
   "metadata": {},
   "source": [
    "## Machine + no Snack"
   ]
  },
  {
   "cell_type": "code",
   "execution_count": 13,
   "id": "9fad23f9",
   "metadata": {},
   "outputs": [
    {
     "data": {
      "text/plain": [
       "0    0.011082\n",
       "dtype: float64"
      ]
     },
     "execution_count": 13,
     "metadata": {},
     "output_type": "execute_result"
    }
   ],
   "source": [
    "MachineNoSnacks"
   ]
  },
  {
   "cell_type": "markdown",
   "id": "c2628db1",
   "metadata": {},
   "source": [
    "## Check if the sum is 1"
   ]
  },
  {
   "cell_type": "code",
   "execution_count": 14,
   "id": "07c8d638",
   "metadata": {},
   "outputs": [
    {
     "data": {
      "text/plain": [
       "0    1.0\n",
       "dtype: float64"
      ]
     },
     "execution_count": 14,
     "metadata": {},
     "output_type": "execute_result"
    }
   ],
   "source": [
    "sum = OnlineSnacks + OnlineNoSnacks + CashierSnacks + CashierNoSnacks + MachineSnacks + MachineNoSnacks\n",
    "sum"
   ]
  },
  {
   "cell_type": "markdown",
   "id": "21a21d7b",
   "metadata": {},
   "source": [
    "## Probabilities for the new Model (selectOutput5)"
   ]
  },
  {
   "cell_type": "code",
   "execution_count": 15,
   "id": "bddf7de5",
   "metadata": {},
   "outputs": [],
   "source": [
    "OnlineSnacks = Online * Snacks\n",
    "OnlineNoSnacks = Online * NoSnacks\n",
    "TicketSnacks = CashierAndMachine * Snacks\n",
    "TicketNoSnacks = CashierAndMachine * NoSnacks"
   ]
  },
  {
   "cell_type": "code",
   "execution_count": 16,
   "id": "6211dea0",
   "metadata": {},
   "outputs": [
    {
     "data": {
      "text/plain": [
       "0    0.645337\n",
       "dtype: float64"
      ]
     },
     "execution_count": 16,
     "metadata": {},
     "output_type": "execute_result"
    }
   ],
   "source": [
    "OnlineSnacks"
   ]
  },
  {
   "cell_type": "code",
   "execution_count": 17,
   "id": "419ddc53",
   "metadata": {},
   "outputs": [
    {
     "data": {
      "text/plain": [
       "0    0.113052\n",
       "dtype: float64"
      ]
     },
     "execution_count": 17,
     "metadata": {},
     "output_type": "execute_result"
    }
   ],
   "source": [
    "OnlineNoSnacks"
   ]
  },
  {
   "cell_type": "code",
   "execution_count": 18,
   "id": "379197c6",
   "metadata": {},
   "outputs": [
    {
     "data": {
      "text/plain": [
       "0    0.205594\n",
       "dtype: float64"
      ]
     },
     "execution_count": 18,
     "metadata": {},
     "output_type": "execute_result"
    }
   ],
   "source": [
    "TicketSnacks"
   ]
  },
  {
   "cell_type": "code",
   "execution_count": 19,
   "id": "0859c5cc",
   "metadata": {},
   "outputs": [
    {
     "data": {
      "text/plain": [
       "0    0.036017\n",
       "dtype: float64"
      ]
     },
     "execution_count": 19,
     "metadata": {},
     "output_type": "execute_result"
    }
   ],
   "source": [
    "TicketNoSnacks"
   ]
  },
  {
   "cell_type": "code",
   "execution_count": 20,
   "id": "61b13bcb",
   "metadata": {},
   "outputs": [
    {
     "data": {
      "text/plain": [
       "0    1.0\n",
       "dtype: float64"
      ]
     },
     "execution_count": 20,
     "metadata": {},
     "output_type": "execute_result"
    }
   ],
   "source": [
    "Sum = OnlineSnacks + OnlineNoSnacks + TicketSnacks + TicketNoSnacks\n",
    "Sum"
   ]
  }
 ],
 "metadata": {
  "kernelspec": {
   "display_name": "Python 3 (ipykernel)",
   "language": "python",
   "name": "python3"
  },
  "language_info": {
   "codemirror_mode": {
    "name": "ipython",
    "version": 3
   },
   "file_extension": ".py",
   "mimetype": "text/x-python",
   "name": "python",
   "nbconvert_exporter": "python",
   "pygments_lexer": "ipython3",
   "version": "3.9.7"
  }
 },
 "nbformat": 4,
 "nbformat_minor": 5
}
